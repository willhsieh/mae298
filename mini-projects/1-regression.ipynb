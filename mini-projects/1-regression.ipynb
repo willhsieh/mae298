{
 "cells": [
  {
   "cell_type": "code",
   "execution_count": 1,
   "metadata": {},
   "outputs": [],
   "source": [
    "# https://juliastats.org/Distributions.jl/stable/starting/\n",
    "using Random, Distributions\n",
    "\n",
    "Random.seed!(123) # Setting the seed"
   ]
  },
  {
   "cell_type": "code",
   "execution_count": 9,
   "metadata": {},
   "outputs": [
    {
     "name": "stdout",
     "output_type": "stream",
     "text": [
      "x: [-0.3388004097704336, -0.8407060892289901, -0.27095542006859946, -0.9881346299779001, -0.300435433211115, -0.8078616534342686, -0.23292769325520343, -0.6399210993879831, -0.33933997032938973, -0.7412398962144214, -0.680196071809645, -0.4185712073247967, -0.7317764490074232, -0.04340130412235377, 0.23056308376647422, -0.45808693851420557, 0.49482628624717034, 0.5659227189482887, -0.5249202486326863, -0.3340535471281033]\n",
      "y: [0.09964117566087599, -0.4668912603811052, 0.5172288306748107, -0.4420034809833979, 0.13015174066376095, 0.0263505844700741, -0.7484467464465975, 0.0057607130291360276, -0.3255499379073191, -0.24251099256858927, -0.6809293703234893, -0.015779454636606443, -0.7462594282496491, -0.6639485395930687, 0.24990299147963838, -0.6480860500023525, 0.08303831031210888, -0.14239050456622232, -0.1207480054487016, -0.2497551514395278]"
     ]
    }
   ],
   "source": [
    "uniform_dist = Uniform(-1, 1)\n",
    "gauss_noise = Normal(0, 0.2)\n",
    "\n",
    "x = rand(uniform_dist, 20)\n",
    "y = rand(uniform_dist, 20)\n",
    "\n",
    "a0 = −0.3\n",
    "a1 = 0.5\n",
    "\n",
    "for i in 1:20\n",
    "    x[i] = a0 + a1 * x[i] + rand(noise)\n",
    "    y[i] = a0 + a1 * y[i] + rand(noise)\n",
    "end\n",
    "\n",
    "print(\"x: $x\\n\")\n",
    "print(\"y: $y\")"
   ]
  },
  {
   "cell_type": "code",
   "execution_count": null,
   "metadata": {},
   "outputs": [],
   "source": []
  }
 ],
 "metadata": {
  "kernelspec": {
   "display_name": "Julia 1.11.2",
   "language": "julia",
   "name": "julia-1.11"
  },
  "language_info": {
   "file_extension": ".jl",
   "mimetype": "application/julia",
   "name": "julia",
   "version": "1.11.2"
  }
 },
 "nbformat": 4,
 "nbformat_minor": 2
}
